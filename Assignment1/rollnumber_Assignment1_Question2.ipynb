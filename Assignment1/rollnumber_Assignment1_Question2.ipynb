{
 "cells": [
  {
   "cell_type": "markdown",
   "id": "866ed254",
   "metadata": {},
   "source": [
    "# Approximate Nearest Neighbors:\n",
    "\n",
    "# Image Recommendation System via Collaborative Filtering"
   ]
  },
  {
   "cell_type": "markdown",
   "id": "2e08937a",
   "metadata": {},
   "source": [
    "# ***Please read the instructions very carefully***\n",
    "This is a modified version of the previous question and requires you to use an artificial nearest neighbors library\n",
    "\n",
    "We suggest you to use one of the following:\n",
    "- [ScaNN](https://github.com/google-research/google-research/tree/master/scann)\n",
    "- [FAISS](https://github.com/facebookresearch/faiss)\n",
    "- [Annoy](https://github.com/spotify/annoy.git)"
   ]
  },
  {
   "cell_type": "markdown",
   "id": "489a4212",
   "metadata": {},
   "source": [
    "1.   Assignment must be implemented in Python 3 only.\n",
    "2.   You are allowed to use libraries for data preprocessing (numpy, pandas, nltk etc) and for evaluation metrics, data visualization (matplotlib etc.).\n",
    "3.   You will be evaluated not just on the overall performance of the model and also on the experimentation with hyper parameters, data prepossessing techniques etc.\n",
    "4.   ⚠️ The Assignment will be evaluated automatically. Please adhere to taking proper inputs from `config.csv` file. You can change your `config.csv` file to experiment with your code. But at the end, make sure that your outputs are corresponding to input values in `config.csv`\n",
    "5.   Strict plagiarism checking will be done. An F will be awarded for plagiarism."
   ]
  },
  {
   "cell_type": "markdown",
   "id": "f494560c",
   "metadata": {},
   "source": [
    "## About the Dataset\n",
    "Behance is a community art website where users showcase and discover creative work. Each user is able to “appreciate” (equivalent to a “like” on Instagram or a “react” on Facebook) an image, indicating that they like the image. It is in the website’s best interests to show users pictures that they would like, to keep them engaged for longer. For this question, given a set of pictures that a user has already appreciated, you have to show them a new picture that they would like based on what similar users appreciated.\n",
    "\n",
    "\n",
    "<br><br>\n",
    "**The dataset has information of 1 million appreciates of 63,497 users on 178,788 items. The file Behance appreciate 1M has a triplet in each line in the form of (user id, item id, unix timestamp).**"
   ]
  },
  {
   "cell_type": "markdown",
   "id": "d8dd3f15",
   "metadata": {},
   "source": [
    "**Task: Take the inputs from the config.csv file and output the recommendations for a particular person**\n",
    "- Collaborative Filtering is a way to predict items to the user based on the the\n",
    "user’s history and the history of similar users. The similarity between users can be quantified by the number of images that both the users appreciated.\n",
    "- The images appreciated by a similar user would be the most suitable images to show a user. Since we can find the similarity between any two users, we would be able to find the “nearest” neighbours of any user, allowing us to use a KNN-based algorithm to recommend new images to a user.\n",
    "- Since people do not like seeing pictures that they have seen already. Make sure that you do not recommend pictures that a user has appreciated already.\n",
    "- Output the final response will be saved in the file named ```config['output_file']```.\n"
   ]
  },
  {
   "cell_type": "markdown",
   "id": "68a52fe5",
   "metadata": {},
   "source": [
    "**Output file format:**\n",
    "Populate the output file with images that the user has not seen of the k most\n",
    "similar users, in descending order of their similarity. Each line in the output\n",
    "file should be a duplet in the form of (item id, user id), where the user id is the\n",
    "id of the kth similar user. The order of the images corresponding to the same\n",
    "similar user would not matter. The output file would look something like this:\n",
    "```\n",
    "item_id_1_of_1st_similar_user 1st_most_similar_user_id\n",
    "item_id_2_of_1st_similar_user 1st_most_similar_user_id\n",
    "item_id_3_of_1st_similar_user 1st_most_similar_user_id\n",
    "...\n",
    "item_id_1_of_2nd_similar_user 2nd_most_similar_user_id\n",
    "item_id_2_of_2nd_similar_user 2nd_most_similar_user_id\n",
    "item_id_3_of_2nd_similar_user 2nd_most_similar_user_id\n",
    "...\n",
    "item_id_1_of_kth_similar_user kth_most_similar_user_id\n",
    "item_id_2_of_kth_similar_user kth_most_similar_user_id\n",
    "item_id_3_of_kth_similar_user kth_most_similar_user_id\n",
    "```"
   ]
  },
  {
   "cell_type": "markdown",
   "id": "26d46fd2",
   "metadata": {},
   "source": [
    "You may use any other recommendation system that you wish to use. However,\n",
    "evaluation script will score your submission by measuring the similarity between\n",
    "users with the number of common images they appreciated.\n",
    "The dataset was extracted using Behance’s API as a part of the paper\n",
    "“Vista: A visually, socially, and temporally-aware model for artistic\n",
    "recommendation, RecSys, 2016”. Check out this [Google Drive folder](https://drive.google.com/drive/folders/0B9Ck8jw-TZUEc3NlMjVXdDlPU1k?resourcekey=0-6_8ykn0o4fLc5fuTEm91xA) for\n",
    "more information about the dataset.\n",
    "\n",
    "\n",
    "Have fun! The users are waiting to see new pictures!"
   ]
  },
  {
   "cell_type": "markdown",
   "id": "bd602c3f",
   "metadata": {},
   "source": [
    "# CODE"
   ]
  },
  {
   "cell_type": "markdown",
   "id": "912088cf",
   "metadata": {},
   "source": [
    "### Import necessary libraries"
   ]
  },
  {
   "cell_type": "code",
   "execution_count": 2,
   "id": "13e9cbe3",
   "metadata": {},
   "outputs": [
    {
     "name": "stdout",
     "output_type": "stream",
     "text": [
      "Requirement already satisfied: scann in /home/archit/.local/lib/python3.8/site-packages (1.2.4)\n",
      "Requirement already satisfied: numpy in /home/archit/.local/lib/python3.8/site-packages (from scann) (1.21.3)\n",
      "Requirement already satisfied: tensorflow~=2.7.0 in /home/archit/.local/lib/python3.8/site-packages (from scann) (2.7.0)\n",
      "Requirement already satisfied: wheel<1.0,>=0.32.0 in /usr/lib/python3/dist-packages (from tensorflow~=2.7.0->scann) (0.34.2)\n",
      "Requirement already satisfied: astunparse>=1.6.0 in /home/archit/.local/lib/python3.8/site-packages (from tensorflow~=2.7.0->scann) (1.6.3)\n",
      "Requirement already satisfied: google-pasta>=0.1.1 in /home/archit/.local/lib/python3.8/site-packages (from tensorflow~=2.7.0->scann) (0.2.0)\n",
      "Requirement already satisfied: tensorflow-io-gcs-filesystem>=0.21.0 in /home/archit/.local/lib/python3.8/site-packages (from tensorflow~=2.7.0->scann) (0.22.0)\n",
      "Requirement already satisfied: h5py>=2.9.0 in /home/archit/.local/lib/python3.8/site-packages (from tensorflow~=2.7.0->scann) (3.5.0)\n",
      "Requirement already satisfied: opt-einsum>=2.3.2 in /home/archit/.local/lib/python3.8/site-packages (from tensorflow~=2.7.0->scann) (3.3.0)\n",
      "Requirement already satisfied: gast<0.5.0,>=0.2.1 in /home/archit/.local/lib/python3.8/site-packages (from tensorflow~=2.7.0->scann) (0.4.0)\n",
      "Requirement already satisfied: termcolor>=1.1.0 in /home/archit/.local/lib/python3.8/site-packages (from tensorflow~=2.7.0->scann) (1.1.0)\n",
      "Requirement already satisfied: six>=1.12.0 in /usr/lib/python3/dist-packages (from tensorflow~=2.7.0->scann) (1.14.0)\n",
      "Requirement already satisfied: keras<2.8,>=2.7.0rc0 in /home/archit/.local/lib/python3.8/site-packages (from tensorflow~=2.7.0->scann) (2.7.0)\n",
      "Requirement already satisfied: flatbuffers<3.0,>=1.12 in /home/archit/.local/lib/python3.8/site-packages (from tensorflow~=2.7.0->scann) (2.0)\n",
      "Requirement already satisfied: wrapt>=1.11.0 in /home/archit/.local/lib/python3.8/site-packages (from tensorflow~=2.7.0->scann) (1.13.3)\n",
      "Requirement already satisfied: tensorflow-estimator<2.8,~=2.7.0rc0 in /home/archit/.local/lib/python3.8/site-packages (from tensorflow~=2.7.0->scann) (2.7.0)\n",
      "Requirement already satisfied: grpcio<2.0,>=1.24.3 in /home/archit/.local/lib/python3.8/site-packages (from tensorflow~=2.7.0->scann) (1.41.1)\n",
      "Requirement already satisfied: absl-py>=0.4.0 in /home/archit/.local/lib/python3.8/site-packages (from tensorflow~=2.7.0->scann) (1.0.0)\n",
      "Requirement already satisfied: libclang>=9.0.1 in /home/archit/.local/lib/python3.8/site-packages (from tensorflow~=2.7.0->scann) (12.0.0)\n",
      "Requirement already satisfied: keras-preprocessing>=1.1.1 in /home/archit/.local/lib/python3.8/site-packages (from tensorflow~=2.7.0->scann) (1.1.2)\n",
      "Requirement already satisfied: tensorboard~=2.6 in /home/archit/.local/lib/python3.8/site-packages (from tensorflow~=2.7.0->scann) (2.7.0)\n",
      "Requirement already satisfied: protobuf>=3.9.2 in /home/archit/.local/lib/python3.8/site-packages (from tensorflow~=2.7.0->scann) (3.19.1)\n",
      "Requirement already satisfied: typing-extensions>=3.6.6 in /home/archit/.local/lib/python3.8/site-packages (from tensorflow~=2.7.0->scann) (3.10.0.2)\n",
      "Requirement already satisfied: setuptools>=41.0.0 in /usr/lib/python3/dist-packages (from tensorboard~=2.6->tensorflow~=2.7.0->scann) (45.2.0)\n",
      "Requirement already satisfied: tensorboard-plugin-wit>=1.6.0 in /home/archit/.local/lib/python3.8/site-packages (from tensorboard~=2.6->tensorflow~=2.7.0->scann) (1.8.0)\n",
      "Requirement already satisfied: google-auth<3,>=1.6.3 in /home/archit/.local/lib/python3.8/site-packages (from tensorboard~=2.6->tensorflow~=2.7.0->scann) (2.3.3)\n",
      "Requirement already satisfied: requests<3,>=2.21.0 in /home/archit/.local/lib/python3.8/site-packages (from tensorboard~=2.6->tensorflow~=2.7.0->scann) (2.26.0)\n",
      "Requirement already satisfied: werkzeug>=0.11.15 in /home/archit/.local/lib/python3.8/site-packages (from tensorboard~=2.6->tensorflow~=2.7.0->scann) (2.0.2)\n",
      "Requirement already satisfied: markdown>=2.6.8 in /home/archit/.local/lib/python3.8/site-packages (from tensorboard~=2.6->tensorflow~=2.7.0->scann) (3.3.4)\n",
      "Requirement already satisfied: tensorboard-data-server<0.7.0,>=0.6.0 in /home/archit/.local/lib/python3.8/site-packages (from tensorboard~=2.6->tensorflow~=2.7.0->scann) (0.6.1)\n",
      "Requirement already satisfied: google-auth-oauthlib<0.5,>=0.4.1 in /home/archit/.local/lib/python3.8/site-packages (from tensorboard~=2.6->tensorflow~=2.7.0->scann) (0.4.6)\n",
      "Requirement already satisfied: cachetools<5.0,>=2.0.0 in /home/archit/.local/lib/python3.8/site-packages (from google-auth<3,>=1.6.3->tensorboard~=2.6->tensorflow~=2.7.0->scann) (4.2.4)\n",
      "Requirement already satisfied: pyasn1-modules>=0.2.1 in /usr/lib/python3/dist-packages (from google-auth<3,>=1.6.3->tensorboard~=2.6->tensorflow~=2.7.0->scann) (0.2.1)\n",
      "Requirement already satisfied: rsa<5,>=3.1.4; python_version >= \"3.6\" in /home/archit/.local/lib/python3.8/site-packages (from google-auth<3,>=1.6.3->tensorboard~=2.6->tensorflow~=2.7.0->scann) (4.7.2)\n",
      "Requirement already satisfied: idna<4,>=2.5; python_version >= \"3\" in /home/archit/.local/lib/python3.8/site-packages (from requests<3,>=2.21.0->tensorboard~=2.6->tensorflow~=2.7.0->scann) (3.3)\n",
      "Requirement already satisfied: urllib3<1.27,>=1.21.1 in /home/archit/.local/lib/python3.8/site-packages (from requests<3,>=2.21.0->tensorboard~=2.6->tensorflow~=2.7.0->scann) (1.26.7)\n",
      "Requirement already satisfied: charset-normalizer~=2.0.0; python_version >= \"3\" in /home/archit/.local/lib/python3.8/site-packages (from requests<3,>=2.21.0->tensorboard~=2.6->tensorflow~=2.7.0->scann) (2.0.7)\n",
      "Requirement already satisfied: certifi>=2017.4.17 in /home/archit/.local/lib/python3.8/site-packages (from requests<3,>=2.21.0->tensorboard~=2.6->tensorflow~=2.7.0->scann) (2021.10.8)\n",
      "Requirement already satisfied: requests-oauthlib>=0.7.0 in /home/archit/.local/lib/python3.8/site-packages (from google-auth-oauthlib<0.5,>=0.4.1->tensorboard~=2.6->tensorflow~=2.7.0->scann) (1.3.0)\n",
      "Requirement already satisfied: pyasn1>=0.1.3 in /usr/lib/python3/dist-packages (from rsa<5,>=3.1.4; python_version >= \"3.6\"->google-auth<3,>=1.6.3->tensorboard~=2.6->tensorflow~=2.7.0->scann) (0.4.2)\n",
      "Requirement already satisfied: oauthlib>=3.0.0 in /usr/lib/python3/dist-packages (from requests-oauthlib>=0.7.0->google-auth-oauthlib<0.5,>=0.4.1->tensorboard~=2.6->tensorflow~=2.7.0->scann) (3.1.0)\n"
     ]
    }
   ],
   "source": [
    "!pip3 install scann\n"
   ]
  },
  {
   "cell_type": "code",
   "execution_count": 3,
   "id": "2bdea1b1",
   "metadata": {},
   "outputs": [
    {
     "name": "stderr",
     "output_type": "stream",
     "text": [
      "2022-01-27 19:40:34.673252: W tensorflow/stream_executor/platform/default/dso_loader.cc:64] Could not load dynamic library 'libcudart.so.11.0'; dlerror: libcudart.so.11.0: cannot open shared object file: No such file or directory\n",
      "2022-01-27 19:40:34.673307: I tensorflow/stream_executor/cuda/cudart_stub.cc:29] Ignore above cudart dlerror if you do not have a GPU set up on your machine.\n"
     ]
    }
   ],
   "source": [
    "import time\n",
    "import scann\n",
    "import pickle\n",
    "import numpy as np\n",
    "import pandas as pd\n",
    "from scipy.sparse import csr_matrix,lil_matrix\n",
    "from sklearn.decomposition import TruncatedSVD\n"
   ]
  },
  {
   "cell_type": "code",
   "execution_count": 4,
   "id": "0c9c4cd1",
   "metadata": {},
   "outputs": [],
   "source": [
    "# Config Generation Sample Code.\n",
    "# ⚠️ Only for experimentation on your side.\n",
    "# ⚠️ Should be commented during submission.\n",
    "\n",
    "# df = pd.DataFrame(data=[{'id':276633,\n",
    "#                   'k':5,\n",
    "#                   'dataset_file':'./Behance_appreciate_1M',\n",
    "#                   'output_file':'./output.txt'}])\n",
    "# df.to_csv('config.csv')"
   ]
  },
  {
   "cell_type": "code",
   "execution_count": 5,
   "id": "cb6bc1ff",
   "metadata": {},
   "outputs": [],
   "source": [
    "config = pd.read_csv('config.csv').iloc[3]"
   ]
  },
  {
   "cell_type": "code",
   "execution_count": 6,
   "id": "ef721d6b",
   "metadata": {},
   "outputs": [
    {
     "data": {
      "text/plain": [
       "Unnamed: 0                                    0\n",
       "id                                       276633\n",
       "k                                             5\n",
       "dataset_file            ./Behance_appreciate_1M\n",
       "output_file     ./testing/output_test_scann.txt\n",
       "Name: 3, dtype: object"
      ]
     },
     "execution_count": 6,
     "metadata": {},
     "output_type": "execute_result"
    }
   ],
   "source": [
    "config"
   ]
  },
  {
   "cell_type": "code",
   "execution_count": 7,
   "id": "4966a889",
   "metadata": {},
   "outputs": [],
   "source": [
    "user = int(config['id'])\n",
    "k_value = int(config['k'])+1"
   ]
  },
  {
   "cell_type": "markdown",
   "id": "e8e50dee",
   "metadata": {},
   "source": [
    "### Read the Data"
   ]
  },
  {
   "cell_type": "code",
   "execution_count": 8,
   "id": "cd74173b",
   "metadata": {},
   "outputs": [],
   "source": [
    "with open(config['dataset_file'], 'r') as inFile:\n",
    "    appreciate_data = inFile.readlines()"
   ]
  },
  {
   "cell_type": "markdown",
   "id": "e09e9961",
   "metadata": {},
   "source": [
    "### Initialize a dictionary to store the item_ids that a user likes\n",
    "\n",
    "### Go through each line of the input file and construct the user_likes dictionary"
   ]
  },
  {
   "cell_type": "code",
   "execution_count": 9,
   "id": "b37a16f5",
   "metadata": {},
   "outputs": [],
   "source": [
    "user_likes = dict()\n",
    "for line in appreciate_data:\n",
    "    line = line.strip()\n",
    "    user_id = int(line.split()[0])\n",
    "    item_id = int(line.split()[1])\n",
    "    if user_id not in user_likes:\n",
    "        user_likes[user_id] = list()\n",
    "    user_likes[user_id].append(item_id)"
   ]
  },
  {
   "cell_type": "code",
   "execution_count": 10,
   "id": "97fe9516",
   "metadata": {},
   "outputs": [],
   "source": [
    "lis1 = []\n",
    "lis2 = []\n",
    "\n",
    "for line in appreciate_data:\n",
    "    line = line.strip()\n",
    "    user_id = int(line.split()[0])\n",
    "    item_id = int(line.split()[1]) \n",
    "    lis1.append(user_id)\n",
    "    lis2.append(item_id)\n",
    "\n",
    "lis1=list(set(lis1))\n",
    "lis2=list(set(lis2))"
   ]
  },
  {
   "cell_type": "code",
   "execution_count": 11,
   "id": "8121bdb2",
   "metadata": {},
   "outputs": [],
   "source": [
    "user_idx={}\n",
    "arc=0\n",
    "for i in lis1:\n",
    "    user_idx[i]=arc\n",
    "    arc+=1\n",
    "item_idx={}\n",
    "arc=0\n",
    "for i in lis2:\n",
    "    item_idx[i]=arc\n",
    "    arc+=1\n",
    "    \n",
    "inv_user_idx={}\n",
    "for idx in user_idx.keys():\n",
    "    inv_user_idx[user_idx[idx]]=idx"
   ]
  },
  {
   "cell_type": "code",
   "execution_count": 12,
   "id": "8ff4a80d",
   "metadata": {},
   "outputs": [],
   "source": [
    "data=lil_matrix((len(lis1),len(lis2)),dtype=float)"
   ]
  },
  {
   "cell_type": "code",
   "execution_count": 13,
   "id": "5b55dc0b",
   "metadata": {},
   "outputs": [],
   "source": [
    "for line in appreciate_data:\n",
    "    line = line.strip()\n",
    "    user_id = int(line.split()[0])\n",
    "    item_id = int(line.split()[1])\n",
    "    data[user_idx[user_id],item_idx[item_id]]=1.0"
   ]
  },
  {
   "cell_type": "code",
   "execution_count": 14,
   "id": "90eb993e",
   "metadata": {},
   "outputs": [],
   "source": [
    "del appreciate_data"
   ]
  },
  {
   "cell_type": "markdown",
   "id": "cd017880",
   "metadata": {},
   "source": [
    "### Use your choice of Approximate Nearest Neigbor after Collaborative Filtering to find nearest neighbors"
   ]
  },
  {
   "cell_type": "code",
   "execution_count": null,
   "id": "9f8e1ea8",
   "metadata": {},
   "outputs": [],
   "source": [
    "# built data with less dimension\n",
    "tt=TruncatedSVD(n_components=3000)\n",
    "X=tt.fit_transform(data)"
   ]
  },
  {
   "cell_type": "code",
   "execution_count": null,
   "id": "14bc8eef",
   "metadata": {},
   "outputs": [],
   "source": [
    "# export developed data\n",
    "# with open('./testing/test_3000.pkl','wb') as f:\n",
    "#     pickle.dump(X, f)\n"
   ]
  },
  {
   "cell_type": "code",
   "execution_count": 15,
   "id": "5e6942aa",
   "metadata": {},
   "outputs": [],
   "source": [
    "# import developed data\n",
    "with open('./testing/test_3000.pkl','rb') as f:\n",
    "    X = pickle.load(f)"
   ]
  },
  {
   "cell_type": "code",
   "execution_count": 16,
   "id": "580d25aa",
   "metadata": {},
   "outputs": [],
   "source": [
    "def diff_list(list1, list2):\n",
    "    \"\"\" returns difference of two lists \"\"\"\n",
    "    return [x for x in list1 if x not in list2]"
   ]
  },
  {
   "cell_type": "code",
   "execution_count": 17,
   "id": "5ee1d377",
   "metadata": {},
   "outputs": [],
   "source": [
    "# your code here\n",
    "\n",
    "def neighbors(user,k_value,datasvd):\n",
    "    \"\"\" returns an iterable object (like list or generator) \"\"\"\n",
    "    Y=[]\n",
    "    Y.append(datasvd[user_idx[user]])\n",
    "    searcher = scann.scann_ops_pybind.builder(datasvd, k_value, \"dot_product\").tree(num_leaves=2000, num_leaves_to_search=100, training_sample_size=250000).score_ah(2, anisotropic_quantization_threshold=0.2).reorder(100).build()\n",
    "    neighbors, distances = searcher.search_batched(Y)\n",
    "    scores={}\n",
    "    for i in range(len(neighbors)):\n",
    "        scores[neighbors[i]]=distances[i]\n",
    "    neighbors, distances = searcher.search_batched(Y)\n",
    "    k_n_n_list=[]\n",
    "    knn_dis=[]\n",
    "    for i in neighbors[0]:\n",
    "        k_n_n_list.append(inv_user_idx[i])\n",
    "    for i in distances[0]:\n",
    "        knn_dis.append(i)\n",
    "    return  knn_dis,k_n_n_list"
   ]
  },
  {
   "cell_type": "code",
   "execution_count": 18,
   "id": "5ff81b39",
   "metadata": {},
   "outputs": [],
   "source": [
    "start=time.time()\n",
    "dis,id=neighbors(user,k_value,X)\n",
    "end=time.time()\n",
    "print(end-start)"
   ]
  },
  {
   "cell_type": "code",
   "execution_count": null,
   "id": "ed997eb2",
   "metadata": {},
   "outputs": [],
   "source": [
    "id"
   ]
  },
  {
   "cell_type": "markdown",
   "id": "8c351ffc",
   "metadata": {},
   "source": [
    "### Open the output file to write all the lines to the file"
   ]
  },
  {
   "cell_type": "code",
   "execution_count": 5,
   "id": "39cd63e0",
   "metadata": {},
   "outputs": [
    {
     "name": "stdout",
     "output_type": "stream",
     "text": [
      "3628520\n",
      "666917\n",
      "2492899\n",
      "3313136\n"
     ]
    }
   ],
   "source": [
    "outFile = open(\"output_scann.txt\", 'w')\n",
    "for n_user in id[:k_value]:\n",
    "    user_id = n_user\n",
    "    if user_id!=user:\n",
    "        for item_id in diff_list(user_likes[user_id],user_likes[user]):\n",
    "            outFile.write(str(item_id) + ' ' + str(user_id) + '\\n')\n",
    "outFile.close()\n"
   ]
  },
  {
   "cell_type": "markdown",
   "id": "34759573",
   "metadata": {},
   "source": [
    "> #### Top 10 ids nearest to user_id 276633 (including itself)\n",
    "> + distance_unit = [197.92722 , 41.0624 , 38.034836 , 37.896236 , 36.92703 , 34.978985 , 29.046488 , 29.002932 , 28.925209 , 27.971037]\n",
    "> + user_id =[276633 , 3628520 , 666917 , 2492899 , 3313136 , 2585131 , 1238354 , 332645 , 1859320 , 2186317]\n",
    "> + Runtime = 5minutes 34seconds"
   ]
  },
  {
   "cell_type": "markdown",
   "id": "0b6f24d6",
   "metadata": {},
   "source": [
    "### Answer the following questions:"
   ]
  },
  {
   "cell_type": "markdown",
   "id": "012f72f8",
   "metadata": {},
   "source": [
    "#### Q1. **Explain how your choice of library works**\n",
    "\n",
    "+ used ScaNN library over Faiss and Annoy since it can handle roughly twice as many queries per second for a given accuracy represented in below graph\n",
    "<img src=\"https://1.bp.blogspot.com/--mbMV8fQY28/XxsvbGL_l-I/AAAAAAAAGQ0/Br9B3XGnBa07barUxC4XTi8hSDxYzwAEgCLcBGAsYHQ/s640/image5.png\" width=\"800px\"/>\n",
    "<br/>\n",
    "+ working\n",
    "    + The main idea behind ScaNN is the vector quantization schemes quantized database elements with the aim of higher average distance may actually result in superior MIPS accuracy over the aim of minimizing the average distance between each vector x and its quantized form x̃.  \n",
    "    + Anisotropic vector quantization also allows ScaNN to better estimate inner products that are likely to be in the top-k MIPS results and therefore achieve higher accuracy.\n",
    "    + In short the performance gains are achievable by optimizing algorithms for the end goal of improving search accuracy rather than an intermediate goal such as compression distortion."
   ]
  },
  {
   "cell_type": "markdown",
   "id": "3b0ac14b",
   "metadata": {},
   "source": [
    "#### Q2. **Compare your choice of library with vanilla KNN.**\n",
    "***Hint: Include Time Complexity, and explain the tradeoff with recall***\n",
    "\n",
    "*your solution here*"
   ]
  },
  {
   "cell_type": "markdown",
   "id": "400d7827",
   "metadata": {},
   "source": [
    "#### Q3. **Compare your choice of library with implementation of ScaNN, faiss and annoy.**\n",
    "***Hint: Include Time Complexity, and explain the tradeoff with recall***\n",
    "\n",
    "*your solution here*"
   ]
  }
 ],
 "metadata": {
  "kernelspec": {
   "display_name": "Python 3",
   "language": "python",
   "name": "python3"
  },
  "language_info": {
   "codemirror_mode": {
    "name": "ipython",
    "version": 3
   },
   "file_extension": ".py",
   "mimetype": "text/x-python",
   "name": "python",
   "nbconvert_exporter": "python",
   "pygments_lexer": "ipython3",
   "version": "3.8.10"
  }
 },
 "nbformat": 4,
 "nbformat_minor": 5
}
