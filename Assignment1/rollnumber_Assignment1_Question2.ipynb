{
 "cells": [
  {
   "cell_type": "markdown",
   "id": "866ed254",
   "metadata": {},
   "source": [
    "# Approximate Nearest Neighbors:\n",
    "\n",
    "# Image Recommendation System via Collaborative Filtering"
   ]
  },
  {
   "cell_type": "markdown",
   "id": "2e08937a",
   "metadata": {},
   "source": [
    "# ***Please read the instructions very carefully***\n",
    "This is a modified version of the previous question and requires you to use an artificial nearest neighbors library\n",
    "\n",
    "We suggest you to use one of the following:\n",
    "- [ScaNN](https://github.com/google-research/google-research/tree/master/scann)\n",
    "- [FAISS](https://github.com/facebookresearch/faiss)\n",
    "- [Annoy](https://github.com/spotify/annoy.git)"
   ]
  },
  {
   "cell_type": "markdown",
   "id": "489a4212",
   "metadata": {},
   "source": [
    "1.   Assignment must be implemented in Python 3 only.\n",
    "2.   You are allowed to use libraries for data preprocessing (numpy, pandas, nltk etc) and for evaluation metrics, data visualization (matplotlib etc.).\n",
    "3.   You will be evaluated not just on the overall performance of the model and also on the experimentation with hyper parameters, data prepossessing techniques etc.\n",
    "4.   ⚠️ The Assignment will be evaluated automatically. Please adhere to taking proper inputs from `config.csv` file. You can change your `config.csv` file to experiment with your code. But at the end, make sure that your outputs are corresponding to input values in `config.csv`\n",
    "5.   Strict plagiarism checking will be done. An F will be awarded for plagiarism."
   ]
  },
  {
   "cell_type": "markdown",
   "id": "f494560c",
   "metadata": {},
   "source": [
    "## About the Dataset\n",
    "Behance is a community art website where users showcase and discover creative work. Each user is able to “appreciate” (equivalent to a “like” on Instagram or a “react” on Facebook) an image, indicating that they like the image. It is in the website’s best interests to show users pictures that they would like, to keep them engaged for longer. For this question, given a set of pictures that a user has already appreciated, you have to show them a new picture that they would like based on what similar users appreciated.\n",
    "\n",
    "\n",
    "<br><br>\n",
    "**The dataset has information of 1 million appreciates of 63,497 users on 178,788 items. The file Behance appreciate 1M has a triplet in each line in the form of (user id, item id, unix timestamp).**"
   ]
  },
  {
   "cell_type": "markdown",
   "id": "d8dd3f15",
   "metadata": {},
   "source": [
    "**Task: Take the inputs from the config.csv file and output the recommendations for a particular person**\n",
    "- Collaborative Filtering is a way to predict items to the user based on the the\n",
    "user’s history and the history of similar users. The similarity between users can be quantified by the number of images that both the users appreciated.\n",
    "- The images appreciated by a similar user would be the most suitable images to show a user. Since we can find the similarity between any two users, we would be able to find the “nearest” neighbours of any user, allowing us to use a KNN-based algorithm to recommend new images to a user.\n",
    "- Since people do not like seeing pictures that they have seen already. Make sure that you do not recommend pictures that a user has appreciated already.\n",
    "- Output the final response will be saved in the file named ```config['output_file']```.\n"
   ]
  },
  {
   "cell_type": "markdown",
   "id": "68a52fe5",
   "metadata": {},
   "source": [
    "**Output file format:**\n",
    "Populate the output file with images that the user has not seen of the k most\n",
    "similar users, in descending order of their similarity. Each line in the output\n",
    "file should be a duplet in the form of (item id, user id), where the user id is the\n",
    "id of the kth similar user. The order of the images corresponding to the same\n",
    "similar user would not matter. The output file would look something like this:\n",
    "```\n",
    "item_id_1_of_1st_similar_user 1st_most_similar_user_id\n",
    "item_id_2_of_1st_similar_user 1st_most_similar_user_id\n",
    "item_id_3_of_1st_similar_user 1st_most_similar_user_id\n",
    "...\n",
    "item_id_1_of_2nd_similar_user 2nd_most_similar_user_id\n",
    "item_id_2_of_2nd_similar_user 2nd_most_similar_user_id\n",
    "item_id_3_of_2nd_similar_user 2nd_most_similar_user_id\n",
    "...\n",
    "item_id_1_of_kth_similar_user kth_most_similar_user_id\n",
    "item_id_2_of_kth_similar_user kth_most_similar_user_id\n",
    "item_id_3_of_kth_similar_user kth_most_similar_user_id\n",
    "```"
   ]
  },
  {
   "cell_type": "markdown",
   "id": "26d46fd2",
   "metadata": {},
   "source": [
    "You may use any other recommendation system that you wish to use. However,\n",
    "evaluation script will score your submission by measuring the similarity between\n",
    "users with the number of common images they appreciated.\n",
    "The dataset was extracted using Behance’s API as a part of the paper\n",
    "“Vista: A visually, socially, and temporally-aware model for artistic\n",
    "recommendation, RecSys, 2016”. Check out this [Google Drive folder](https://drive.google.com/drive/folders/0B9Ck8jw-TZUEc3NlMjVXdDlPU1k?resourcekey=0-6_8ykn0o4fLc5fuTEm91xA) for\n",
    "more information about the dataset.\n",
    "\n",
    "\n",
    "Have fun! The users are waiting to see new pictures!"
   ]
  },
  {
   "cell_type": "markdown",
   "id": "bd602c3f",
   "metadata": {},
   "source": [
    "# CODE"
   ]
  },
  {
   "cell_type": "markdown",
   "id": "912088cf",
   "metadata": {},
   "source": [
    "### Import necessary libraries"
   ]
  },
  {
   "cell_type": "code",
   "execution_count": null,
   "id": "13e9cbe3",
   "metadata": {},
   "outputs": [],
   "source": [
    "!pip3 install scann"
   ]
  },
  {
   "cell_type": "code",
   "execution_count": null,
   "id": "2bdea1b1",
   "metadata": {},
   "outputs": [],
   "source": [
    "import time\n",
    "import scann\n",
    "import pickle\n",
    "import numpy as np\n",
    "import pandas as pd\n",
    "from scipy.sparse import csr_matrix,lil_matrix\n",
    "from sklearn.decomposition import TruncatedSVD\n"
   ]
  },
  {
   "cell_type": "code",
   "execution_count": null,
   "id": "0c9c4cd1",
   "metadata": {},
   "outputs": [],
   "source": [
    "# Config Generation Sample Code.\n",
    "# ⚠️ Only for experimentation on your side.\n",
    "# ⚠️ Should be commented during submission.\n",
    "\n",
    "# df = pd.DataFrame(data=[{'id':276633,\n",
    "#                   'k':5,\n",
    "#                   'dataset_file':'./Behance_appreciate_1M',\n",
    "#                   'output_file':'./output.txt'}])\n",
    "# df.to_csv('config.csv')"
   ]
  },
  {
   "cell_type": "code",
   "execution_count": null,
   "id": "cb6bc1ff",
   "metadata": {},
   "outputs": [],
   "source": [
    "config = pd.read_csv('config.csv').iloc[3]"
   ]
  },
  {
   "cell_type": "code",
   "execution_count": null,
   "id": "ef721d6b",
   "metadata": {},
   "outputs": [],
   "source": [
    "config"
   ]
  },
  {
   "cell_type": "code",
   "execution_count": null,
   "id": "4966a889",
   "metadata": {},
   "outputs": [],
   "source": [
    "user = int(config['id'])\n",
    "k_value = int(config['k'])+1"
   ]
  },
  {
   "cell_type": "markdown",
   "id": "e8e50dee",
   "metadata": {},
   "source": [
    "### Read the Data"
   ]
  },
  {
   "cell_type": "code",
   "execution_count": null,
   "id": "cd74173b",
   "metadata": {},
   "outputs": [],
   "source": [
    "with open(config['dataset_file'], 'r') as inFile:\n",
    "    appreciate_data = inFile.readlines()"
   ]
  },
  {
   "cell_type": "markdown",
   "id": "e09e9961",
   "metadata": {},
   "source": [
    "### Initialize a dictionary to store the item_ids that a user likes\n",
    "\n",
    "### Go through each line of the input file and construct the user_likes dictionary"
   ]
  },
  {
   "cell_type": "code",
   "execution_count": null,
   "id": "b37a16f5",
   "metadata": {},
   "outputs": [],
   "source": [
    "user_likes = dict()\n",
    "for line in appreciate_data:\n",
    "    line = line.strip()\n",
    "    user_id = int(line.split()[0])\n",
    "    item_id = int(line.split()[1])\n",
    "    if user_id not in user_likes:\n",
    "        user_likes[user_id] = list()\n",
    "    user_likes[user_id].append(item_id)"
   ]
  },
  {
   "cell_type": "code",
   "execution_count": null,
   "id": "97fe9516",
   "metadata": {},
   "outputs": [],
   "source": [
    "lis1 = []\n",
    "lis2 = []\n",
    "\n",
    "for line in appreciate_data:\n",
    "    line = line.strip()\n",
    "    user_id = int(line.split()[0])\n",
    "    item_id = int(line.split()[1]) \n",
    "    lis1.append(user_id)\n",
    "    lis2.append(item_id)\n",
    "\n",
    "lis1=list(set(lis1))\n",
    "lis2=list(set(lis2))"
   ]
  },
  {
   "cell_type": "code",
   "execution_count": null,
   "id": "8121bdb2",
   "metadata": {},
   "outputs": [],
   "source": [
    "user_idx={}\n",
    "arc=0\n",
    "for i in lis1:\n",
    "    user_idx[i]=arc\n",
    "    arc+=1\n",
    "item_idx={}\n",
    "arc=0\n",
    "for i in lis2:\n",
    "    item_idx[i]=arc\n",
    "    arc+=1\n",
    "    \n",
    "inv_user_idx={}\n",
    "for idx in user_idx.keys():\n",
    "    inv_user_idx[user_idx[idx]]=idx"
   ]
  },
  {
   "cell_type": "code",
   "execution_count": null,
   "id": "8ff4a80d",
   "metadata": {},
   "outputs": [],
   "source": [
    "data=lil_matrix((len(lis1),len(lis2)),dtype=float)"
   ]
  },
  {
   "cell_type": "code",
   "execution_count": null,
   "id": "5b55dc0b",
   "metadata": {},
   "outputs": [],
   "source": [
    "for line in appreciate_data:\n",
    "    line = line.strip()\n",
    "    user_id = int(line.split()[0])\n",
    "    item_id = int(line.split()[1])\n",
    "    data[user_idx[user_id],item_idx[item_id]]=1.0"
   ]
  },
  {
   "cell_type": "code",
   "execution_count": null,
   "id": "90eb993e",
   "metadata": {},
   "outputs": [],
   "source": [
    "del appreciate_data"
   ]
  },
  {
   "cell_type": "markdown",
   "id": "cd017880",
   "metadata": {},
   "source": [
    "### Use your choice of Approximate Nearest Neigbor after Collaborative Filtering to find nearest neighbors"
   ]
  },
  {
   "cell_type": "code",
   "execution_count": null,
   "id": "9f8e1ea8",
   "metadata": {},
   "outputs": [],
   "source": [
    "# built data with less dimension\n",
    "# tt=TruncatedSVD(n_components=3000)\n",
    "# X=tt.fit_transform(data)"
   ]
  },
  {
   "cell_type": "code",
   "execution_count": null,
   "id": "14bc8eef",
   "metadata": {},
   "outputs": [],
   "source": [
    "# export developed data\n",
    "# with open('./testing/test_3000.pkl','wb') as f:\n",
    "#     pickle.dump(X, f)\n"
   ]
  },
  {
   "cell_type": "code",
   "execution_count": null,
   "id": "5e6942aa",
   "metadata": {},
   "outputs": [],
   "source": [
    "# import developed data\n",
    "with open('./testing/test_3000.pkl','rb') as f:\n",
    "    X = pickle.load(f)"
   ]
  },
  {
   "cell_type": "code",
   "execution_count": null,
   "id": "580d25aa",
   "metadata": {},
   "outputs": [],
   "source": [
    "def diff_list(list1, list2):\n",
    "    \"\"\" returns difference of two lists \"\"\"\n",
    "    return [x for x in list1 if x not in list2]"
   ]
  },
  {
   "cell_type": "code",
   "execution_count": null,
   "id": "5ee1d377",
   "metadata": {},
   "outputs": [],
   "source": [
    "# your code here\n",
    "\n",
    "def neighbors(user,k_value,datasvd):\n",
    "    \"\"\" returns an iterable object (like list or generator) \"\"\"\n",
    "    Y=[]\n",
    "    Y.append(datasvd[user_idx[user]])\n",
    "    start=time.time()\n",
    "    searcher = scann.scann_ops_pybind.builder(datasvd, k_value, \"dot_product\").tree(num_leaves=2000, num_leaves_to_search=100, training_sample_size=250000).score_ah(2, anisotropic_quantization_threshold=0.2).reorder(100).build()\n",
    "    end=time.time()\n",
    "    print(\"Train Runtime\",end-start)\n",
    "    start=time.time()\n",
    "    neighbors, distances = searcher.search_batched(Y)\n",
    "    end=time.time()\n",
    "    print(\"Predict Runtime\",end-start)\n",
    "    scores={}\n",
    "    for i in range(len(neighbors)):\n",
    "        scores[neighbors[i]]=distances[i]\n",
    "    neighbors, distances = searcher.search_batched(Y)\n",
    "    k_n_n_list=[]\n",
    "    knn_dis=[]\n",
    "    for i in neighbors[0]:\n",
    "        k_n_n_list.append(inv_user_idx[i])\n",
    "    for i in distances[0]:\n",
    "        knn_dis.append(i)\n",
    "    return  knn_dis,k_n_n_list"
   ]
  },
  {
   "cell_type": "code",
   "execution_count": null,
   "id": "5ff81b39",
   "metadata": {},
   "outputs": [],
   "source": [
    "dis,id=neighbors(user,k_value,X)"
   ]
  },
  {
   "cell_type": "markdown",
   "id": "8c351ffc",
   "metadata": {},
   "source": [
    "### Open the output file to write all the lines to the file"
   ]
  },
  {
   "cell_type": "code",
   "execution_count": null,
   "id": "39cd63e0",
   "metadata": {},
   "outputs": [],
   "source": [
    "outFile = open(\"output_scann.txt\", 'w')\n",
    "for n_user in id[:k_value]:\n",
    "    user_id = n_user\n",
    "    if user_id!=user:\n",
    "        for item_id in diff_list(user_likes[user_id],user_likes[user]):\n",
    "            outFile.write(str(item_id) + ' ' + str(user_id) + '\\n')\n",
    "outFile.close()\n"
   ]
  },
  {
   "cell_type": "markdown",
   "metadata": {},
   "source": [
    "> ##### Top 10 ids nearest to user_id 276633 (including itself)\n",
    "> + `distance_unit` = [197.92722 , 41.0624 , 38.034836 , 37.896236 , 36.92703 , 34.978985 , 29.046488 , 29.002932 , 28.925209 , 27.971037]\n",
    "> + `user_id` =[276633 , 3628520 , 666917 , 2492899 , 3313136 , 2585131 , 1238354 , 332645 , 1859320 , 2186317]\n",
    "> + `Train Runtime` = 493.14916920661926 seconds\n",
    "> + `Predict Runtime` = 0.0053784847259521484 seconds\n",
    "> + To run check this https://www.kaggle.com/architjain128/scann-smai-ass1-q3\n"
   ]
  },
  {
   "cell_type": "markdown",
   "id": "0b6f24d6",
   "metadata": {},
   "source": [
    "### Answer the following questions:"
   ]
  },
  {
   "cell_type": "markdown",
   "id": "012f72f8",
   "metadata": {},
   "source": [
    "#### Q1. **Explain how your choice of library works**\n",
    "\n",
    "+ used ScaNN library over Faiss and Annoy since it can handle roughly twice as many queries per second for a given accuracy represented in below graph\n",
    "<img src=\"https://1.bp.blogspot.com/--mbMV8fQY28/XxsvbGL_l-I/AAAAAAAAGQ0/Br9B3XGnBa07barUxC4XTi8hSDxYzwAEgCLcBGAsYHQ/s640/image5.png\" width=\"800px\"/>\n",
    "<br/>\n",
    "+ working\n",
    "    + Lay \n",
    "    + The main idea behind ScaNN is the vector quantization schemes quantized database elements with the aim of higher average distance may actually result in superior MIPS accuracy over the aim of minimizing the average distance between each vector x and its quantized form x̃.  \n",
    "    + Anisotropic vector quantization also allows ScaNN to better estimate inner products that are likely to be in the top-k MIPS results and therefore achieve higher accuracy.\n",
    "    + In short the performance gains are achievable by optimizing algorithms for the end goal of improving search accuracy rather than an intermediate goal such as compression distortion.\n",
    "    + Its has 3 phased:\n",
    "        + Partioning\n",
    "            + here data is divides on baisi of `num_leaves` and `num_leaves_to_search`\n",
    "            + Factor `num_leaves_to_search/num_leaves` decides accuracy\n",
    "            + time complexity of this step is `O(sqrt(n))`\n",
    "        + Scoring\n",
    "            + has two kind of scoring\n",
    "                + `brute-force`: better accuracy but slower\n",
    "                + `asymmetric hashing` : has better speed/accuracy tradeoff\n",
    "        + Rescoring\n",
    "            + uses asymmetric hashing to rescore the top-k results and raising `reordering_num_neighbors` increases the accuracy and time complexity as well"
   ]
  },
  {
   "cell_type": "markdown",
   "id": "3b0ac14b",
   "metadata": {},
   "source": [
    "#### Q2. **Compare your choice of library with vanilla KNN.**\n",
    "***Hint: Include Time Complexity, and explain the tradeoff with recall***\n",
    "\n",
    "+ Runtime\n",
    "    +  ScaNN\n",
    "        + Train Runtime = 493.14916920661926 seconds\n",
    "        + Predict Runtime = 0.0053784847259521484 seconds\n",
    "    + KNN\n",
    "        + Train Runtime = 0.2 seconds\n",
    "        + Predict Runtime = 164.76 seconds"
   ]
  },
  {
   "cell_type": "markdown",
   "id": "400d7827",
   "metadata": {},
   "source": [
    "#### Q3. **Compare your choice of library with implementation of ScaNN, faiss and annoy.**\n",
    "***Hint: Include Time Complexity, and explain the tradeoff with recall***\n",
    "\n",
    "*your solution here*"
   ]
  }
 ],
 "metadata": {
  "kernelspec": {
   "display_name": "Python 3",
   "language": "python",
   "name": "python3"
  },
  "language_info": {
   "codemirror_mode": {
    "name": "ipython",
    "version": 3
   },
   "file_extension": ".py",
   "mimetype": "text/x-python",
   "name": "python",
   "nbconvert_exporter": "python",
   "pygments_lexer": "ipython3",
   "version": "3.8.10"
  }
 },
 "nbformat": 4,
 "nbformat_minor": 5
}
