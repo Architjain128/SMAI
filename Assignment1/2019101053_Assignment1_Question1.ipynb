{
 "cells": [
  {
   "cell_type": "markdown",
   "id": "7b7992a1",
   "metadata": {},
   "source": [
    "# Image Recommendation System via Collaborative Filtering"
   ]
  },
  {
   "cell_type": "markdown",
   "id": "bdbd69cd",
   "metadata": {},
   "source": [
    "# ***Please read the instructions very carefully***"
   ]
  },
  {
   "cell_type": "markdown",
   "id": "17602772",
   "metadata": {},
   "source": [
    "1.   Assignment must be implemented in Python 3 only.\n",
    "2.   You are allowed to use libraries for data preprocessing (numpy, pandas, nltk etc) and for evaluation metrics, data visualization (matplotlib etc.).\n",
    "3.   You will be evaluated not just on the overall performance of the model and also on the experimentation with hyper parameters, data prepossessing techniques etc.\n",
    "4.   ⚠️ The Assignment will be evaluated automatically. Please adhere to taking proper inputs from `config.csv` file. You can change your `config.csv` file to experiment with your code. But at the end, make sure that your outputs are corresponding to input values in `config.csv`\n",
    "5.   Strict plagiarism checking will be done. An F will be awarded for plagiarism."
   ]
  },
  {
   "cell_type": "markdown",
   "id": "3c9abf04",
   "metadata": {},
   "source": [
    "## About the Dataset\n",
    "Behance is a community art website where users showcase and discover creative work. Each user is able to “appreciate” (equivalent to a “like” on Instagram or a “react” on Facebook) an image, indicating that they like the image. It is in the website’s best interests to show users pictures that they would like, to keep them engaged for longer. For this question, given a set of pictures that a user has already appreciated, you have to show them a new picture that they would like based on what similar users appreciated.\n",
    "\n",
    "\n",
    "<br><br>\n",
    "**The dataset has information of 1 million appreciates of 63,497 users on 178,788 items. The file Behance appreciate 1M has a triplet in each line in the form of (user id, item id, unix timestamp).**"
   ]
  },
  {
   "cell_type": "markdown",
   "id": "11f6eaf3",
   "metadata": {},
   "source": [
    "**Task: Take the inputs from the config.csv file and output the recommendations for a particular person**\n",
    "- Collaborative Filtering is a way to predict items to the user based on the the\n",
    "user’s history and the history of similar users. The similarity between users can be quantified by the number of images that both the users appreciated.\n",
    "- The images appreciated by a similar user would be the most suitable images to show a user. Since we can find the similarity between any two users, we would be able to find the “nearest” neighbours of any user, allowing us to use a KNN-based algorithm to recommend new images to a user.\n",
    "- Since people do not like seeing pictures that they have seen already. Make sure that you do not recommend pictures that a user has appreciated already.\n",
    "- Output the final response will be saved in the file named ```config['output_file']```.\n"
   ]
  },
  {
   "cell_type": "markdown",
   "id": "1c9a5e4f",
   "metadata": {},
   "source": [
    "**Output file format:**\n",
    "Populate the output file with images that the user has not seen of the k most\n",
    "similar users, in descending order of their similarity. Each line in the output\n",
    "file should be a duplet in the form of (item id, user id), where the user id is the\n",
    "id of the kth similar user. The order of the images corresponding to the same\n",
    "similar user would not matter. The output file would look something like this:\n",
    "```\n",
    "item_id_1_of_1st_similar_user 1st_most_similar_user_id\n",
    "item_id_2_of_1st_similar_user 1st_most_similar_user_id\n",
    "item_id_3_of_1st_similar_user 1st_most_similar_user_id\n",
    "...\n",
    "item_id_1_of_2nd_similar_user 2nd_most_similar_user_id\n",
    "item_id_2_of_2nd_similar_user 2nd_most_similar_user_id\n",
    "item_id_3_of_2nd_similar_user 2nd_most_similar_user_id\n",
    "...\n",
    "item_id_1_of_kth_similar_user kth_most_similar_user_id\n",
    "item_id_2_of_kth_similar_user kth_most_similar_user_id\n",
    "item_id_3_of_kth_similar_user kth_most_similar_user_id\n",
    "```"
   ]
  },
  {
   "cell_type": "markdown",
   "id": "c6d0c592",
   "metadata": {},
   "source": [
    "The dataset was extracted using Behance’s API as a part of the paper\n",
    "“Vista: A visually, socially, and temporally-aware model for artistic\n",
    "recommendation, RecSys, 2016”. Check out this [Google Drive folder](https://drive.google.com/drive/folders/0B9Ck8jw-TZUEc3NlMjVXdDlPU1k?resourcekey=0-6_8ykn0o4fLc5fuTEm91xA) for\n",
    "more information about the dataset.\n",
    "\n",
    "\n",
    "Have fun! The users are waiting to see new pictures!"
   ]
  },
  {
   "cell_type": "markdown",
   "id": "c07d66b3",
   "metadata": {},
   "source": [
    "# CODE"
   ]
  },
  {
   "cell_type": "markdown",
   "id": "87b8072a",
   "metadata": {},
   "source": [
    "### Import necessary libraries"
   ]
  },
  {
   "cell_type": "code",
   "execution_count": 178,
   "id": "f153853d",
   "metadata": {},
   "outputs": [],
   "source": [
    "import time\n",
    "import math\n",
    "import pickle\n",
    "import numpy as np\n",
    "import pandas as pd\n",
    "from scipy.sparse import csr_matrix,lil_matrix\n",
    "from sklearn.decomposition import TruncatedSVD\n"
   ]
  },
  {
   "cell_type": "code",
   "execution_count": 179,
   "id": "41ac6337",
   "metadata": {},
   "outputs": [],
   "source": [
    "# Config Generation Sample Code.\n",
    "# ⚠️ Only for experimentation on your side.\n",
    "# ⚠️ Should be commented during submission.\n",
    "\n",
    "# df = pd.DataFrame(data=[{'id':276633,\n",
    "#                   'k':5,\n",
    "#                   'dataset_file':'./Behance_appreciate_1M',\n",
    "#                   'output_file':'./output.txt'}])\n",
    "# df.to_csv('config.csv')"
   ]
  },
  {
   "cell_type": "code",
   "execution_count": 180,
   "id": "7af3e999",
   "metadata": {},
   "outputs": [],
   "source": [
    "config = pd.read_csv('config.csv').iloc[5]"
   ]
  },
  {
   "cell_type": "code",
   "execution_count": 181,
   "id": "829d0147",
   "metadata": {},
   "outputs": [
    {
     "data": {
      "text/plain": [
       "Unnamed: 0                                      0\n",
       "id                                         276633\n",
       "k                                               5\n",
       "dataset_file              ./Behance_appreciate_1M\n",
       "output_file     ./testing/output_test_svd_new.txt\n",
       "Name: 5, dtype: object"
      ]
     },
     "execution_count": 181,
     "metadata": {},
     "output_type": "execute_result"
    }
   ],
   "source": [
    "config"
   ]
  },
  {
   "cell_type": "code",
   "execution_count": 182,
   "id": "f4d09c27",
   "metadata": {},
   "outputs": [],
   "source": [
    "user = int(config['id'])\n",
    "k_value = int(config['k'])"
   ]
  },
  {
   "cell_type": "markdown",
   "id": "10935090",
   "metadata": {},
   "source": [
    "### Read the Data"
   ]
  },
  {
   "cell_type": "code",
   "execution_count": 183,
   "id": "5bbba85a",
   "metadata": {},
   "outputs": [],
   "source": [
    "with open(config['dataset_file'], 'r') as inFile:\n",
    "    appreciate_data = inFile.readlines()"
   ]
  },
  {
   "cell_type": "markdown",
   "id": "99512e25",
   "metadata": {},
   "source": [
    "### Initialize a dictionary to store the item_ids that a user likes\n",
    "\n",
    "### Go through each line of the input file and construct the user_likes dictionary"
   ]
  },
  {
   "cell_type": "code",
   "execution_count": 184,
   "id": "1d3d9be5",
   "metadata": {},
   "outputs": [],
   "source": [
    "user_likes = dict()\n",
    "for line in appreciate_data:\n",
    "    line = line.strip()\n",
    "    user_id = int(line.split()[0])\n",
    "    item_id = int(line.split()[1])\n",
    "    if user_id not in user_likes:\n",
    "        user_likes[user_id] = list()\n",
    "    user_likes[user_id].append(item_id)"
   ]
  },
  {
   "cell_type": "code",
   "execution_count": 185,
   "id": "80a539f1",
   "metadata": {},
   "outputs": [],
   "source": [
    "lis1 = []\n",
    "lis2 = []\n",
    "for line in appreciate_data:\n",
    "    line = line.strip()\n",
    "    user_id = int(line.split()[0])\n",
    "    item_id = int(line.split()[1]) \n",
    "    lis1.append(user_id)\n",
    "    lis2.append(item_id)\n",
    "lis1=list(set(lis1))\n",
    "lis2=list(set(lis2))"
   ]
  },
  {
   "cell_type": "code",
   "execution_count": 186,
   "id": "b09ae868",
   "metadata": {},
   "outputs": [],
   "source": [
    "user_idx={}\n",
    "arc=0\n",
    "for i in lis1:\n",
    "    user_idx[i]=arc\n",
    "    arc+=1\n",
    "item_idx={}\n",
    "arc=0\n",
    "for i in lis2:\n",
    "    item_idx[i]=arc\n",
    "    arc+=1\n",
    "inv_user_idx={}\n",
    "for idx in user_idx.keys():\n",
    "    inv_user_idx[user_idx[idx]]=idx"
   ]
  },
  {
   "cell_type": "code",
   "execution_count": 187,
   "id": "5127ffae",
   "metadata": {},
   "outputs": [],
   "source": [
    "data=lil_matrix((len(lis1),len(lis2)),dtype=float)"
   ]
  },
  {
   "cell_type": "code",
   "execution_count": 188,
   "id": "3eacb7d6",
   "metadata": {},
   "outputs": [],
   "source": [
    "for line in appreciate_data:\n",
    "    line = line.strip()\n",
    "    user_id = int(line.split()[0])\n",
    "    item_id = int(line.split()[1])\n",
    "    data[user_idx[user_id],item_idx[item_id]]=1.0"
   ]
  },
  {
   "cell_type": "code",
   "execution_count": 189,
   "id": "0af9d9eb",
   "metadata": {},
   "outputs": [],
   "source": [
    "del appreciate_data"
   ]
  },
  {
   "cell_type": "markdown",
   "id": "9e199965",
   "metadata": {},
   "source": [
    "### Use KNN after Collaborative Filtering to find nearest neighbors"
   ]
  },
  {
   "cell_type": "code",
   "execution_count": 190,
   "id": "03c229ba",
   "metadata": {},
   "outputs": [],
   "source": [
    "# built data with less dimension\n",
    "tt=TruncatedSVD(n_components=3000)\n",
    "X=tt.fit_transform(data)"
   ]
  },
  {
   "cell_type": "code",
   "execution_count": 191,
   "id": "be3ef43f",
   "metadata": {},
   "outputs": [],
   "source": [
    "# export developed data\n",
    "# with open('./testing/test_3000.pkl','wb') as f:\n",
    "#     pickle.dump(X, f)"
   ]
  },
  {
   "cell_type": "code",
   "execution_count": 192,
   "id": "022a1959",
   "metadata": {},
   "outputs": [],
   "source": [
    "# import developed data\n",
    "# dataset with reduced dimension can be imported from https://www.kaggle.com/architjain128/svd3000\n",
    "# with open('./testing/test_3000.pkl','rb') as f:\n",
    "#     X = pickle.load(f)"
   ]
  },
  {
   "cell_type": "code",
   "execution_count": 206,
   "id": "2117df52",
   "metadata": {},
   "outputs": [],
   "source": [
    "def diff_list(list1, list2):\n",
    "    \"\"\" returns difference of two lists \"\"\"\n",
    "    return [x for x in list1 if x not in list2]\n",
    "\n",
    "def cosine_similarity_score(list1, list2):\n",
    "    \"\"\" returns cosine similarity score of two lists \"\"\"\n",
    "    val=0.0\n",
    "    a=0.0\n",
    "    b=0.0\n",
    "    for i in range(len(list1)):\n",
    "        val+=list1[i]*list2[i]\n",
    "        a+=list1[i]*list1[i]\n",
    "        b+=list2[i]*list2[i]\n",
    "    try:\n",
    "        return math.sqrt(max(0.0,1.0-((val*val)/(a*b))))\n",
    "    except:\n",
    "        return 1.0\n",
    "\n",
    "def euclidean_distance_score(list1, list2):\n",
    "    \"\"\" returns euclidean distance score of two lists \"\"\"\n",
    "    val=0.0\n",
    "    for i in range(len(list1)):\n",
    "        val+=(list1[i]-list2[i])*(list1[i]-list2[i])\n",
    "    return math.sqrt(val)\n",
    "\n",
    "def manhattan_distance(list1, list2):\n",
    "    \"\"\" returns manhattan distance score of two lists \"\"\"\n",
    "    val=0.0\n",
    "    for i in range(len(list1)):\n",
    "        val+=abs(list1[i]-list2[i])\n",
    "    return val\n",
    "\n",
    "def ruzika_distace(list1, list2):\n",
    "    \"\"\" returns ruzika distance score of two lists \"\"\"\n",
    "    val=0.0\n",
    "    a=0.0\n",
    "    for i in range(len(list1)):\n",
    "        val+=abs(list1[i]-list2[i])\n",
    "        a+=max(list1[i],list2[i])\n",
    "    try :\n",
    "        return 1.0 - val/a\n",
    "    except:\n",
    "        return 1.0\n",
    "    \n",
    "def wow_distace(list1, list2):\n",
    "    \"\"\" returns ruzika distance score of two lists \"\"\"\n",
    "    val=0.0\n",
    "    a=0.0\n",
    "    b=0.0\n",
    "    for i in range(len(list1)):\n",
    "        val+=((list1[i]-list2[i])*(list1[i]-list2[i]) + abs(list1[i]-list2[i]))\n",
    "    return math.sqrt(val)\n"
   ]
  },
  {
   "cell_type": "code",
   "execution_count": 222,
   "id": "0d960f90",
   "metadata": {},
   "outputs": [],
   "source": [
    "def neighbors(user,k_value,X,distance_metric=euclidean_distance_score):\n",
    "    \"\"\" returns an iterable object (like list or generator) \"\"\"\n",
    "    scores = {}\n",
    "    for x in range(len(X)):\n",
    "        x=inv_user_idx[x]\n",
    "        if x != user:\n",
    "            scores[x] = distance_metric(X[user_idx[user]],X[user_idx[x]])\n",
    "    return sorted(scores.items(), key=lambda x:x[1], reverse=False)\n"
   ]
  },
  {
   "cell_type": "code",
   "execution_count": 223,
   "id": "5b564cee",
   "metadata": {},
   "outputs": [
    {
     "name": "stdout",
     "output_type": "stream",
     "text": [
      "Viola\n"
     ]
    }
   ],
   "source": [
    "scores=neighbors(user,k_value,X,wow_distace)"
   ]
  },
  {
   "cell_type": "code",
   "execution_count": 230,
   "id": "5dd08859",
   "metadata": {},
   "outputs": [
    {
     "data": {
      "text/plain": [
       "[(2452817, 26.73653758871646),\n",
       " (1480429, 26.80415197919863),\n",
       " (1459742, 26.996489359810205),\n",
       " (3103074, 26.999197345309728),\n",
       " (1999429, 27.003505612370336)]"
      ]
     },
     "execution_count": 230,
     "metadata": {},
     "output_type": "execute_result"
    }
   ],
   "source": [
    "score=scores[:k_value]"
   ]
  },
  {
   "cell_type": "markdown",
   "id": "892c395b",
   "metadata": {},
   "source": [
    "### Open the output file to write all the lines to the file"
   ]
  },
  {
   "cell_type": "code",
   "execution_count": 231,
   "id": "428708d5",
   "metadata": {},
   "outputs": [],
   "source": [
    "outFile = open(config['output_file'], 'w')\n",
    "\n",
    "for n_user in score:\n",
    "    user_id = n_user[0]\n",
    "    for item_id in diff_list(user_likes[user_id],user_likes[user]):\n",
    "        outFile.write(str(item_id) + ' ' + str(user_id) + '\\n')\n",
    "\n",
    "outFile.close()"
   ]
  }
 ],
 "metadata": {
  "kernelspec": {
   "display_name": "Python 3",
   "language": "python",
   "name": "python3"
  },
  "language_info": {
   "codemirror_mode": {
    "name": "ipython",
    "version": 3
   },
   "file_extension": ".py",
   "mimetype": "text/x-python",
   "name": "python",
   "nbconvert_exporter": "python",
   "pygments_lexer": "ipython3",
   "version": "3.8.10"
  }
 },
 "nbformat": 4,
 "nbformat_minor": 5
}
