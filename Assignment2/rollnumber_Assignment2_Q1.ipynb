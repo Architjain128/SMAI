{
 "cells": [
  {
   "cell_type": "markdown",
   "metadata": {},
   "source": [
    "# Assignment 2 - Question 1\n",
    "The objective of this assignment is to get you familiarize with  the  problem  of  `Clustering`.\n",
    "\n",
    "## Instructions\n",
    "- Write your code and analysis in the indicated cells.\n",
    "- Ensure that this notebook runs without errors when the cells are run in sequence.\n",
    "- Do not attempt to change the contents of other cells.\n",
    "- No inbuilt functions to be used until specified\n",
    "\n",
    "## Submission\n",
    "- Ensure that this notebook runs without errors when the cells are run in sequence.\n",
    "- Rename the notebook to `<roll_number>_Assignment2_Q1.ipynb`."
   ]
  },
  {
   "cell_type": "code",
   "execution_count": 1,
   "metadata": {
    "colab": {
     "base_uri": "https://localhost:8080/"
    },
    "id": "TdEXGGO0AqkW",
    "outputId": "119fb7e5-3656-4bdb-fcfa-2e33afe2d0d3"
   },
   "outputs": [
    {
     "name": "stderr",
     "output_type": "stream",
     "text": [
      "[nltk_data] Downloading package punkt to /home/archit/nltk_data...\n",
      "[nltk_data]   Package punkt is already up-to-date!\n"
     ]
    }
   ],
   "source": [
    "import nltk\n",
    "nltk.download('punkt')    \n",
    "# if u r facing issues while importing nltk, please uncomment above line and run\n",
    "import re\n",
    "import numpy as np\n",
    "import time\n",
    "import math\n",
    "import pickle\n",
    "import sklearn\n",
    "from nltk.tokenize import RegexpTokenizer\n",
    "from nltk.tokenize import sent_tokenize\n",
    "from sklearn.feature_extraction.text import TfidfVectorizer\n",
    "from sklearn.metrics import silhouette_score as ss\n",
    "from scipy.cluster.hierarchy import dendrogram\n"
   ]
  },
  {
   "cell_type": "code",
   "execution_count": 2,
   "metadata": {
    "id": "5N2FkdFMxixH"
   },
   "outputs": [
    {
     "name": "stderr",
     "output_type": "stream",
     "text": [
      "2022-02-16 03:39:14.684170: W tensorflow/stream_executor/platform/default/dso_loader.cc:64] Could not load dynamic library 'libcudart.so.11.0'; dlerror: libcudart.so.11.0: cannot open shared object file: No such file or directory\n",
      "2022-02-16 03:39:14.684362: I tensorflow/stream_executor/cuda/cudart_stub.cc:29] Ignore above cudart dlerror if you do not have a GPU set up on your machine.\n"
     ]
    }
   ],
   "source": [
    "# !pip3 install sentence-transformers\n",
    "from sentence_transformers import SentenceTransformer\n"
   ]
  },
  {
   "cell_type": "markdown",
   "metadata": {
    "id": "s-1irtUhxlp2"
   },
   "source": [
    "# Dataset\n",
    "\n",
    "\n",
    "\n",
    "*   Try to explore the dataset and first understand\n",
    "*   Steps while processing the dataset:\n",
    "\n",
    "1.   Load the dataset\n",
    ">> The 20 newsgroups dataset comprises around 18000 newsgroups posts on 20 topics split in two subsets: train and test. Here, we only use train part of the dataset as we don't need any training.\n",
    "\n",
    "2.   pre-processing of the dataset\n",
    ">>   A set of basic pre-processing steps are given below, if you can do it better, it is appreciable\n",
    "3.   Trying to obtain the embeddings for the text. \n",
    ">> Here, we used bert model to obtain the embeddings, if you want to use anyother sentence/word embeddings (ELMo,universal sentence encoder, or other bert models) you can use it, but not mandatorily change it)\n",
    "\n",
    "PS: You need not completely understand how bert works. If you are interested, few links will be mentioned below."
   ]
  },
  {
   "cell_type": "code",
   "execution_count": 3,
   "metadata": {
    "id": "oqkn6iSNmEo1"
   },
   "outputs": [],
   "source": [
    "# loading of dataset\n",
    "\n",
    "from sklearn.datasets import fetch_20newsgroups\n",
    "newsgroups_train = fetch_20newsgroups(subset='train')\n",
    "\n",
    "# print(list(newsgroups_train))\n",
    "#['data', 'filenames', 'target_names', 'target', 'DESCR']\n",
    "# all we require for our task is data and target. \n",
    "#target_names describe the different groups present (which are 20) all over the dataset\n",
    "\n",
    "# print(list(newsgroups_train.target_names))"
   ]
  },
  {
   "cell_type": "code",
   "execution_count": 4,
   "metadata": {
    "id": "NNRbIfsX01hD"
   },
   "outputs": [],
   "source": [
    "bert_model = SentenceTransformer('bert-base-nli-mean-tokens')"
   ]
  },
  {
   "cell_type": "code",
   "execution_count": 5,
   "metadata": {
    "id": "kp8UL8lP5U2k"
   },
   "outputs": [],
   "source": [
    "#preprocessing of sentences and the article\n",
    "\n",
    "def remove_punct(text):\n",
    "  text = re.sub('[^a-zA-Z0-9 ]+','', text)\n",
    "  return text\n",
    "\n",
    "def remove_urls(text):\n",
    "  url_pattern = re.compile(r'https?://\\S+|www\\.\\S+')\n",
    "  return url_pattern.sub(r'', text)\n",
    "\n",
    "def remove_tag(text):\n",
    "  text=' '.join(text)\n",
    "  html_pattern = re.compile('<.*?>')\n",
    "  return html_pattern.sub(r'', text)\n",
    "\n",
    "def pre_process_sentence(sentence):\n",
    "  sentence = sentence.lower()\n",
    "  sentence = remove_punct(remove_urls(sentence))\n",
    "  return sentence\n",
    "\n",
    "def pre_process_article(article):\n",
    "  article = str(article).replace(\"\\n\", '')\n",
    "  article = sent_tokenize(article)\n",
    "  sentences = []\n",
    "  for each in article:\n",
    "    if len(each.split(\":\")) > 1:\n",
    "      continue\n",
    "    sentences.append(pre_process_sentence(each))\n",
    "  return sentences\n",
    "\n"
   ]
  },
  {
   "cell_type": "code",
   "execution_count": 6,
   "metadata": {
    "id": "72IcGYs980zK"
   },
   "outputs": [],
   "source": [
    "\n",
    "def get_review_embedding(article):\n",
    "  sentences = pre_process_article(article)\n",
    "\n",
    "  #here review(input) has to be a list of sentences\n",
    "  #use suitable embeddings to get an embedding for the whole review\n",
    "  #usage of sentence embeddings is recommended\n",
    "\n",
    "  sentence_embeddings = bert_model.encode(sentences)\n",
    "\n",
    "  # take average of all sentence embeddings to obtain a review embedding \n",
    "  review_embedding = np.zeros(768)\n",
    "  for each in sentence_embeddings:\n",
    "    review_embedding = np.add(np.array(each), review_embedding)\n",
    "  if len(sentence_embeddings) > 0:\n",
    "    review_embedding = np.divide(review_embedding, len(sentence_embeddings))\n",
    "  return review_embedding\n",
    "\n",
    "\n"
   ]
  },
  {
   "cell_type": "code",
   "execution_count": 12,
   "metadata": {},
   "outputs": [],
   "source": [
    "X=np.array(pickle.load(open('full_nor.pkl','rb')))\n",
    "pca=pickle.load(open('pca_2d.pkl','rb'))"
   ]
  },
  {
   "cell_type": "code",
   "execution_count": 8,
   "metadata": {
    "id": "JkaKG4WW9eXx"
   },
   "outputs": [],
   "source": [
    "# data visualization \n",
    "\n",
    "# Try to visualise the points from all the domains and try to visualise them \n",
    "# hint: you can use PCA \n",
    "\n",
    "import sklearn\n",
    "from sklearn.decomposition import PCA\n",
    "import matplotlib.pyplot as plt\n",
    "import random\n",
    "import numpy as np\n"
   ]
  },
  {
   "cell_type": "markdown",
   "metadata": {
    "id": "uZH6gO7HA5jk"
   },
   "source": [
    "# K_Means Algorithm\n"
   ]
  },
  {
   "cell_type": "code",
   "execution_count": 9,
   "metadata": {
    "colab": {
     "base_uri": "https://localhost:8080/"
    },
    "id": "T9TBSHWfgWxU",
    "outputId": "8d4ab613-7513-4732-bf06-8b7e7cd8a2c9"
   },
   "outputs": [],
   "source": [
    "# code to write your Kmeans algorithm\n",
    "#implement your KMeans algorithm here, and visualise the clusters obtained \n",
    "\n",
    "from sklearn.cluster import KMeans\n",
    "kmeans = KMeans(n_clusters=2, random_state=4).fit(X)\n",
    "a=kmeans.labels_\n"
   ]
  },
  {
   "cell_type": "markdown",
   "metadata": {},
   "source": [
    "#### My inbuilt but not used"
   ]
  },
  {
   "cell_type": "code",
   "execution_count": 11,
   "metadata": {},
   "outputs": [],
   "source": [
    "def random_unique_k_centroid(x,k):\n",
    "    n=x.shape[0]\n",
    "    idx=set()\n",
    "    while len(idx)<k:\n",
    "        idx.add(np.random.randint(0,n))\n",
    "    return x[list(idx)]\n",
    "\n",
    "def dis_euclidean(x,y):\n",
    "    val=0.0\n",
    "    for i in range(len(x)):\n",
    "        val+=(x[i]-y[i])**2\n",
    "    return math.sqrt(val)\n",
    "\n",
    "def dis_from_all_centroid(x,centroids):\n",
    "    val=[]\n",
    "    for i in range(len(centroids)):\n",
    "        val.append(dis_euclidean(x,centroids[i]))\n",
    "    return val\n",
    "\n",
    "def form_clusters(x,centroids):\n",
    "    k=len(centroids)\n",
    "    clusters={}\n",
    "    for i in range(k):\n",
    "        clusters[i]=[]\n",
    "    for i in range(len(x)):\n",
    "        dis=dis_from_all_centroid(x[i],centroids)\n",
    "        idx=np.argmin(dis)\n",
    "        clusters[idx].append(x[i])\n",
    "    return clusters"
   ]
  },
  {
   "cell_type": "code",
   "execution_count": 12,
   "metadata": {},
   "outputs": [],
   "source": [
    "k=2\n",
    "seeds=random_unique_k_centroid(np.array(X),k)\n",
    "clusters = form_clusters(X,seeds)"
   ]
  },
  {
   "cell_type": "markdown",
   "metadata": {},
   "source": [
    "#### Using kmeans"
   ]
  },
  {
   "cell_type": "code",
   "execution_count": 23,
   "metadata": {},
   "outputs": [],
   "source": [
    "def visualisation(k,X,pca,vis=True):\n",
    "    kmeans = KMeans(n_clusters=k, random_state=4).fit(X)\n",
    "    a=kmeans.labels_\n",
    "    interia=kmeans.inertia_\n",
    "    dic={}\n",
    "    for i in range(len(a)):\n",
    "        if a[i] not in dic:\n",
    "            dic[a[i]]=[]\n",
    "        dic[a[i]].append(pca[i])\n",
    "    if vis==True:\n",
    "        for i in dic:\n",
    "            x=np.array(dic[i]).T\n",
    "            plt.scatter(x[0],x[1])\n",
    "        plt.title(\"Kmeans Visualisation using PCA k=\"+str(k))\n",
    "        plt.show()\n",
    "    return a,interia"
   ]
  },
  {
   "cell_type": "markdown",
   "metadata": {},
   "source": [
    "##### Plots"
   ]
  },
  {
   "cell_type": "code",
   "execution_count": null,
   "metadata": {},
   "outputs": [],
   "source": [
    "for i in range(2,10):\n",
    "    visualisation(i,X,pca)\n"
   ]
  },
  {
   "cell_type": "markdown",
   "metadata": {
    "id": "m2t9Cz6yuJmO"
   },
   "source": [
    "# Elbow method\n",
    "\n",
    "\n",
    "\n",
    "*   Try to understand how elbow method works\n",
    "*   Plot the graph between average distance and the number of clusters\n",
    "*   Use elbow method to find the optimal number of clusters, \n",
    "\n",
    "\n",
    "\n",
    "\n",
    "\n"
   ]
  },
  {
   "cell_type": "code",
   "execution_count": 18,
   "metadata": {
    "id": "JW_stdJuub4s"
   },
   "outputs": [
    {
     "data": {
      "image/png": "[encoded data removed]",
      "text/plain": [
       "<Figure size 432x288 with 1 Axes>"
      ]
     },
     "metadata": {
      "needs_background": "light"
     },
     "output_type": "display_data"
    }
   ],
   "source": [
    "def elbow_method():\n",
    "    inertia=[]\n",
    "    for i in range(1,10):\n",
    "        _,b=visualisation(i,X,pca,False)\n",
    "        inertia.append(b)\n",
    "    plt.plot(range(1,10),inertia)\n",
    "    plt.title(\"Elbow Method\")\n",
    "    plt.show()\n",
    "\n",
    "elbow_method()"
   ]
  },
  {
   "cell_type": "markdown",
   "metadata": {
    "id": "2jHeGh-xuuDc"
   },
   "source": [
    "# Silhouette Method\n",
    "\n",
    "\n",
    "*   Compute silhouette score varying the K number of clusters\n",
    "\n",
    "*   Plot the graph between silhoutte score and number of clusters \n",
    "\n",
    "*   Find the optimal number of clusters using silhouette method\n",
    "\n",
    "\n",
    "\n",
    "\n",
    "> Report the optimal number of clusters you obtained from above two methods (elbow and silhouette)\n",
    "\n",
    "\n"
   ]
  },
  {
   "cell_type": "code",
   "execution_count": null,
   "metadata": {},
   "outputs": [],
   "source": [
    "kmeans = KMeans(n_clusters=1, random_state=4).fit(X)\n",
    "a=kmeans.labels_\n",
    "ss(X,a,metric='euclidean',sample_size=1000,random_state=4)"
   ]
  },
  {
   "cell_type": "code",
   "execution_count": 28,
   "metadata": {
    "id": "lKRJ4IBMuwfd"
   },
   "outputs": [
    {
     "data": {
      "image/png": "[encoded data removed]",
      "text/plain": [
       "<Figure size 432x288 with 1 Axes>"
      ]
     },
     "metadata": {
      "needs_background": "light"
     },
     "output_type": "display_data"
    }
   ],
   "source": [
    "def silhouette_score():\n",
    "    sil=[]\n",
    "    for i in range(2,10):\n",
    "        a,_=visualisation(i,X,pca,False)\n",
    "        sil.append(ss(X,a,metric='euclidean',sample_size=1000,random_state=4))\n",
    "    plt.plot(range(2,10),sil)\n",
    "    plt.title(\"Silhouette Method\")\n",
    "    plt.show()\n",
    "\n",
    "silhouette_score()"
   ]
  },
  {
   "cell_type": "markdown",
   "metadata": {
    "id": "JEvLJxmnuCof"
   },
   "source": [
    "# Agglomerative clustering"
   ]
  },
  {
   "cell_type": "code",
   "execution_count": 13,
   "metadata": {
    "colab": {
     "base_uri": "https://localhost:8080/"
    },
    "id": "nzssThP1g_NN",
    "outputId": "27d005d2-7405-4a81-a644-f35bdd3ef4f1"
   },
   "outputs": [
    {
     "data": {
      "image/png": "[encoded data removed]",
      "text/plain": [
       "<Figure size 432x288 with 1 Axes>"
      ]
     },
     "metadata": {
      "needs_background": "light"
     },
     "output_type": "display_data"
    },
    {
     "data": {
      "text/plain": [
       "array([0, 0, 0, ..., 0, 0, 0])"
      ]
     },
     "execution_count": 13,
     "metadata": {},
     "output_type": "execute_result"
    }
   ],
   "source": [
    "# code to write your Kmeans algorithm\n",
    "#implement your KMeans algorithm here, and visualise the clusters obtained \n",
    "\n",
    "from sklearn.cluster import AgglomerativeClustering\n",
    "\n",
    "def visual_AgglomerativeClustering():\n",
    "    clustering = AgglomerativeClustering().fit(X)\n",
    "    a=clustering.labels_\n",
    "    dic={}\n",
    "    for i in range(len(a)):\n",
    "        if a[i] not in dic:\n",
    "            dic[a[i]]=[]\n",
    "        dic[a[i]].append(pca[i])\n",
    "    for i in dic:\n",
    "        x=np.array(dic[i]).T\n",
    "        plt.scatter(x[0],x[1])\n",
    "    plt.title(\"Agglomerative Clustering Visualisation using PCA\")\n",
    "    plt.show()\n",
    "    return a\n",
    "\n",
    "visual_AgglomerativeClustering()"
   ]
  },
  {
   "cell_type": "markdown",
   "metadata": {
    "id": "ZdNC7XxxwuJW"
   },
   "source": [
    "# Dendogram\n",
    "\n",
    "\n",
    "*   Try to understand the difference between agglomerative clustering and hierarchical clustering\n",
    "*   Plot dendograms for both kinds of clustering\n",
    "*   Find the optimal number of clusters with the help of Dendogram\n",
    "\n"
   ]
  },
  {
   "cell_type": "code",
   "execution_count": 15,
   "metadata": {},
   "outputs": [],
   "source": [
    "def plot_dendrogram(model,p=5):\n",
    "    counts = np.zeros(model.children_.shape[0])\n",
    "    n_samples = len(model.labels_)\n",
    "    for i, merge in enumerate(model.children_):\n",
    "        current_count = 0\n",
    "        for child_idx in merge:\n",
    "            if child_idx < n_samples:\n",
    "                current_count += 1\n",
    "            else:\n",
    "                current_count += counts[child_idx - n_samples]\n",
    "        counts[i] = current_count\n",
    "    linkage_matrix = np.column_stack([model.children_, model.distances_, counts]).astype(float)\n",
    "    dendrogram(linkage_matrix,truncate_mode='level',p=p)\n",
    "\n",
    "\n"
   ]
  },
  {
   "cell_type": "code",
   "execution_count": 17,
   "metadata": {
    "id": "1NWavQn0hW3i"
   },
   "outputs": [
    {
     "data": {
      "image/png": "[encoded data removed]",
      "text/plain": [
       "<Figure size 432x288 with 1 Axes>"
      ]
     },
     "metadata": {
      "needs_background": "light"
     },
     "output_type": "display_data"
    }
   ],
   "source": [
    "# code to write dendogram\n",
    "def denogram_AgglomerativeClustering(p=5):\n",
    "    clustering = AgglomerativeClustering(distance_threshold=0, n_clusters=None).fit(X)\n",
    "    plt.title(\"Dendrogram\")\n",
    "    plot_dendrogram(clustering,p)\n",
    "    plt.show()\n",
    "\n",
    "denogram_AgglomerativeClustering()"
   ]
  },
  {
   "cell_type": "markdown",
   "metadata": {
    "id": "B3On7lpA11eB"
   },
   "source": [
    "# useful links to understand BERT\n",
    "\n",
    "*  https://towardsdatascience.com/bert-explained-state-of-the-art-language-model-for-nlp-f8b21a9b6270#:~:text=How%20BERT%20works,%2Dwords)%20in%20a%20text.&text=As%20opposed%20to%20directional%20models,sequence%20of%20words%20at%20once.\n",
    "\n",
    "\n"
   ]
  }
 ],
 "metadata": {
  "colab": {
   "name": "Q_Clustering.ipynb",
   "provenance": []
  },
  "kernelspec": {
   "display_name": "Python 3",
   "language": "python",
   "name": "python3"
  },
  "language_info": {
   "codemirror_mode": {
    "name": "ipython",
    "version": 3
   },
   "file_extension": ".py",
   "mimetype": "text/x-python",
   "name": "python",
   "nbconvert_exporter": "python",
   "pygments_lexer": "ipython3",
   "version": "3.8.10"
  }
 },
 "nbformat": 4,
 "nbformat_minor": 4
}
